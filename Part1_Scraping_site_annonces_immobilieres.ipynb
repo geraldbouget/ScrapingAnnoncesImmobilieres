{
 "cells": [
  {
   "cell_type": "markdown",
   "metadata": {},
   "source": [
    "<p><font size=\"5\"><b>PROJET 2 - SIMPLON DEV. DATA : PYTHON - SQL </b></font></p>\n",
    "\n",
    "\n",
    "<p><font size=\"4\"><b> *0-1. Scrapping d’un site internet à l’aide de beautiful soup - Scraping script*  \n",
    " - 02/01/2010* </b></font></p>\n",
    "\n",
    "<p><font size=\"3\"> *Scraping du site internet www.paruvendu.fr - liste de toutes les annonces de ventes de biens\n",
    "    immobiliers ancien particuliers/pro in IDF scrappées le 29/01/2020* </font></p>\n",
    "\n",
    "*© 2020, Gérald Bouget  (<mailto:geraldbouget@gmail.com>)\n"
   ]
  },
  {
   "cell_type": "code",
   "execution_count": null,
   "metadata": {},
   "outputs": [],
   "source": [
    "import requests\n",
    "from bs4 import BeautifulSoup\n",
    "import re\n",
    "import pandas as pd"
   ]
  },
  {
   "cell_type": "code",
   "execution_count": null,
   "metadata": {},
   "outputs": [],
   "source": [
    "# looping à travers les annonces d'un nombre de page définie pour annonces immobilières en ile de france\n",
    "# sur paruvendu.fr\n",
    "\n",
    "liste_annonces = []\n",
    "page = 1\n",
    "while page <= 800:\n",
    "    src2 = requests.get('https://www.paruvendu.fr/immobilier/annonceimmofo/liste/listeAnnonces?tt=1&tbApp=1&tbDup=1&tbChb=1&tbLof=1&tbAtl=1&tbPla=1&tbMai=1&tbVil=1&tbCha=1&tbPro=1&tbHot=1&tbMou=1&tbFer=1&at=-4&pa=FR&lo=75,77,78,91,92,93,94,95&lol=0&ray=50&p='+str(page)).text\n",
    "    soup2 = BeautifulSoup(src2, 'html')\n",
    "    content_links = soup2.find_all('div', class_='ergov3-annonce')\n",
    "    for a in content_links:\n",
    "        titre_annonce1 = a.find('div', class_='ergov3-txtannonce').h3.text\n",
    "        titre_annonce2 = re.sub(r'[\\r\\n]', ' ', titre_annonce1)\n",
    "        titre_annonce = re.sub('(\\s){2,}', ' ', titre_annonce2)\n",
    "        ville_cp = re.sub(r'\\r\\n','',a.find('div', class_='ergov3-txtannonce').cite.text)\n",
    "        prix = re.sub(r'(\\s+){2,}|(\\*)', ' ', a.find('div', class_='ergov3-priceannonce').text)\n",
    "        texte_annonce = re.sub(r'(\\s+){2,}', ' ', a.p.text)\n",
    "        try:\n",
    "            nom_agence = re.sub(r'((\\s+){2,})(Toutes les annonces de )|[\\r\\n]', ' ', a.find('div', class_='ergov3-lienpro').text)\n",
    "        except (AttributeError, TypeError):\n",
    "            nom_agence = 'particulier'\n",
    "        else:\n",
    "            nom_agence = re.sub(r'((\\s+){2,})(Toutes les annonces de )|[\\r\\n]', ' ', a.find('div', class_='ergov3-lienpro').text)\n",
    "        liste_annonces.append((titre_annonce, ville_cp, prix, texte_annonce, nom_agence))\n",
    "    page+=1\n",
    "\n",
    "df_ancien = pd.DataFrame(liste_annonces, columns=['titre_annonce', 'ville_cp', 'prix',\n",
    "                                         'texte_annonce', 'nom_agence'])\n",
    "df_ancien.to_csv('paruvendu_ancien.csv')\n",
    "        \n",
    "\n",
    "    \n",
    "    \n",
    "df_ancien.info()"
   ]
  }
 ],
 "metadata": {
  "kernelspec": {
   "display_name": "Python 3",
   "language": "python",
   "name": "python3"
  },
  "language_info": {
   "codemirror_mode": {
    "name": "ipython",
    "version": 3
   },
   "file_extension": ".py",
   "mimetype": "text/x-python",
   "name": "python",
   "nbconvert_exporter": "python",
   "pygments_lexer": "ipython3",
   "version": "3.7.4"
  }
 },
 "nbformat": 4,
 "nbformat_minor": 2
}
